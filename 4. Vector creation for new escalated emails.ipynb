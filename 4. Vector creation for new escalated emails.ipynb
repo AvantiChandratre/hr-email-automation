{
 "cells": [
  {
   "cell_type": "code",
   "execution_count": 4,
   "metadata": {},
   "outputs": [
    {
     "name": "stdout",
     "output_type": "stream",
     "text": [
      "Collecting sentence-transformers\n",
      "  Downloading sentence_transformers-4.1.0-py3-none-any.whl.metadata (13 kB)\n",
      "Requirement already satisfied: transformers<5.0.0,>=4.41.0 in c:\\users\\chand\\anaconda3\\lib\\site-packages (from sentence-transformers) (4.51.3)\n",
      "Requirement already satisfied: tqdm in c:\\users\\chand\\anaconda3\\lib\\site-packages (from sentence-transformers) (4.66.5)\n",
      "Requirement already satisfied: torch>=1.11.0 in c:\\users\\chand\\anaconda3\\lib\\site-packages (from sentence-transformers) (2.6.0)\n",
      "Requirement already satisfied: scikit-learn in c:\\users\\chand\\anaconda3\\lib\\site-packages (from sentence-transformers) (1.5.1)\n",
      "Requirement already satisfied: scipy in c:\\users\\chand\\anaconda3\\lib\\site-packages (from sentence-transformers) (1.13.1)\n",
      "Requirement already satisfied: huggingface-hub>=0.20.0 in c:\\users\\chand\\anaconda3\\lib\\site-packages (from sentence-transformers) (0.30.2)\n",
      "Requirement already satisfied: Pillow in c:\\users\\chand\\anaconda3\\lib\\site-packages (from sentence-transformers) (10.4.0)\n",
      "Requirement already satisfied: typing_extensions>=4.5.0 in c:\\users\\chand\\anaconda3\\lib\\site-packages (from sentence-transformers) (4.11.0)\n",
      "Requirement already satisfied: filelock in c:\\users\\chand\\anaconda3\\lib\\site-packages (from huggingface-hub>=0.20.0->sentence-transformers) (3.13.1)\n",
      "Requirement already satisfied: fsspec>=2023.5.0 in c:\\users\\chand\\anaconda3\\lib\\site-packages (from huggingface-hub>=0.20.0->sentence-transformers) (2024.6.1)\n",
      "Requirement already satisfied: packaging>=20.9 in c:\\users\\chand\\anaconda3\\lib\\site-packages (from huggingface-hub>=0.20.0->sentence-transformers) (24.1)\n",
      "Requirement already satisfied: pyyaml>=5.1 in c:\\users\\chand\\anaconda3\\lib\\site-packages (from huggingface-hub>=0.20.0->sentence-transformers) (6.0.1)\n",
      "Requirement already satisfied: requests in c:\\users\\chand\\anaconda3\\lib\\site-packages (from huggingface-hub>=0.20.0->sentence-transformers) (2.32.3)\n",
      "Requirement already satisfied: networkx in c:\\users\\chand\\anaconda3\\lib\\site-packages (from torch>=1.11.0->sentence-transformers) (3.3)\n",
      "Requirement already satisfied: jinja2 in c:\\users\\chand\\anaconda3\\lib\\site-packages (from torch>=1.11.0->sentence-transformers) (3.1.4)\n",
      "Requirement already satisfied: setuptools in c:\\users\\chand\\anaconda3\\lib\\site-packages (from torch>=1.11.0->sentence-transformers) (75.1.0)\n",
      "Requirement already satisfied: sympy==1.13.1 in c:\\users\\chand\\anaconda3\\lib\\site-packages (from torch>=1.11.0->sentence-transformers) (1.13.1)\n",
      "Requirement already satisfied: mpmath<1.4,>=1.1.0 in c:\\users\\chand\\anaconda3\\lib\\site-packages (from sympy==1.13.1->torch>=1.11.0->sentence-transformers) (1.3.0)\n",
      "Requirement already satisfied: colorama in c:\\users\\chand\\anaconda3\\lib\\site-packages (from tqdm->sentence-transformers) (0.4.6)\n",
      "Requirement already satisfied: numpy>=1.17 in c:\\users\\chand\\anaconda3\\lib\\site-packages (from transformers<5.0.0,>=4.41.0->sentence-transformers) (1.26.4)\n",
      "Requirement already satisfied: regex!=2019.12.17 in c:\\users\\chand\\anaconda3\\lib\\site-packages (from transformers<5.0.0,>=4.41.0->sentence-transformers) (2024.9.11)\n",
      "Requirement already satisfied: tokenizers<0.22,>=0.21 in c:\\users\\chand\\anaconda3\\lib\\site-packages (from transformers<5.0.0,>=4.41.0->sentence-transformers) (0.21.1)\n",
      "Requirement already satisfied: safetensors>=0.4.3 in c:\\users\\chand\\anaconda3\\lib\\site-packages (from transformers<5.0.0,>=4.41.0->sentence-transformers) (0.5.3)\n",
      "Requirement already satisfied: joblib>=1.2.0 in c:\\users\\chand\\anaconda3\\lib\\site-packages (from scikit-learn->sentence-transformers) (1.4.2)\n",
      "Requirement already satisfied: threadpoolctl>=3.1.0 in c:\\users\\chand\\anaconda3\\lib\\site-packages (from scikit-learn->sentence-transformers) (3.5.0)\n",
      "Requirement already satisfied: MarkupSafe>=2.0 in c:\\users\\chand\\anaconda3\\lib\\site-packages (from jinja2->torch>=1.11.0->sentence-transformers) (2.1.3)\n",
      "Requirement already satisfied: charset-normalizer<4,>=2 in c:\\users\\chand\\anaconda3\\lib\\site-packages (from requests->huggingface-hub>=0.20.0->sentence-transformers) (3.3.2)\n",
      "Requirement already satisfied: idna<4,>=2.5 in c:\\users\\chand\\anaconda3\\lib\\site-packages (from requests->huggingface-hub>=0.20.0->sentence-transformers) (3.7)\n",
      "Requirement already satisfied: urllib3<3,>=1.21.1 in c:\\users\\chand\\anaconda3\\lib\\site-packages (from requests->huggingface-hub>=0.20.0->sentence-transformers) (2.2.3)\n",
      "Requirement already satisfied: certifi>=2017.4.17 in c:\\users\\chand\\anaconda3\\lib\\site-packages (from requests->huggingface-hub>=0.20.0->sentence-transformers) (2024.8.30)\n",
      "Downloading sentence_transformers-4.1.0-py3-none-any.whl (345 kB)\n",
      "Installing collected packages: sentence-transformers\n",
      "Successfully installed sentence-transformers-4.1.0\n"
     ]
    }
   ],
   "source": [
    "!pip install sentence-transformers\n"
   ]
  },
  {
   "cell_type": "code",
   "execution_count": 16,
   "metadata": {},
   "outputs": [
    {
     "name": "stdout",
     "output_type": "stream",
     "text": [
      "✅ Connected to PostgreSQL Cloud SQL\n"
     ]
    }
   ],
   "source": [
    "# 📌 Step 2: Import Libraries\n",
    "import psycopg2\n",
    "import pandas as pd\n",
    "import os\n",
    "\n",
    "# 📌 Step 3: Set Up Database Connection (Replace with Your Details)\n",
    "DATABASE_URL = \"dbname='postgres' user='postgres' host='34.59.119.208' password='avantichhaya'\"\n",
    "\n",
    "def connect_db():\n",
    "    try:\n",
    "        conn = psycopg2.connect(DATABASE_URL)\n",
    "        print(\"✅ Connected to PostgreSQL Cloud SQL\")\n",
    "        return conn\n",
    "    except Exception as e:\n",
    "        print(\"🚨 Connection Error:\", e)\n",
    "        return None\n",
    "\n",
    "conn = connect_db()\n",
    "cursor = conn.cursor()\n"
   ]
  },
  {
   "cell_type": "code",
   "execution_count": 17,
   "metadata": {},
   "outputs": [
    {
     "name": "stdout",
     "output_type": "stream",
     "text": [
      "✅ Vector inserted for email_id 139 with category 'Recruitment Process'.\n"
     ]
    }
   ],
   "source": [
    "from sentence_transformers import SentenceTransformer\n",
    "import numpy as np\n",
    "\n",
    "encoder = SentenceTransformer('all-mpnet-base-v2')\n",
    "\n",
    "cursor.execute(\"\"\"\n",
    "    SELECT email_id, subject, body, classified_category\n",
    "    FROM emails\n",
    "    WHERE escalated = TRUE\n",
    "      AND learn = TRUE\n",
    "      AND classified_category IS NOT NULL\n",
    "      AND classified_category != 'human_intervention'\n",
    "      AND email_id NOT IN (\n",
    "          SELECT email_id FROM learned_email_vectors\n",
    "      );\n",
    "\"\"\")\n",
    "\n",
    "email_rows = cursor.fetchall()\n",
    "\n",
    "if email_rows:\n",
    "    for email_id, subject, body, category in email_rows:\n",
    "\n",
    "        text = f\"Subject: {subject}\\nBody: {body}\"\n",
    "        vector = encoder.encode(text)\n",
    "        vector_list = vector.tolist()\n",
    "\n",
    "        insert_query = \"\"\"\n",
    "        INSERT INTO learned_email_vectors (email_id, category, vector)\n",
    "        VALUES (%s, %s, %s)\n",
    "        ON CONFLICT (email_id) DO NOTHING;\n",
    "        \"\"\"\n",
    "\n",
    "        cursor.execute(insert_query, (email_id, category, vector_list))\n",
    "        conn.commit()\n",
    "\n",
    "        print(f\"✅ Vector inserted for email_id {email_id} with category '{category}'.\")\n",
    "else:\n",
    "    print(\"⚠️ No eligible emails found. Nothing to insert.\")\n"
   ]
  },
  {
   "cell_type": "code",
   "execution_count": 18,
   "metadata": {},
   "outputs": [
    {
     "name": "stderr",
     "output_type": "stream",
     "text": [
      "C:\\Users\\chand\\AppData\\Local\\Temp\\ipykernel_48268\\2096386738.py:2: UserWarning: pandas only supports SQLAlchemy connectable (engine/connection) or database string URI or sqlite3 DBAPI2 connection. Other DBAPI2 objects are not tested. Please consider using SQLAlchemy.\n",
      "  df = pd.read_sql(\"SELECT * FROM learned_email_vectors;\", conn)\n"
     ]
    },
    {
     "data": {
      "text/html": [
       "<div>\n",
       "<style scoped>\n",
       "    .dataframe tbody tr th:only-of-type {\n",
       "        vertical-align: middle;\n",
       "    }\n",
       "\n",
       "    .dataframe tbody tr th {\n",
       "        vertical-align: top;\n",
       "    }\n",
       "\n",
       "    .dataframe thead th {\n",
       "        text-align: right;\n",
       "    }\n",
       "</style>\n",
       "<table border=\"1\" class=\"dataframe\">\n",
       "  <thead>\n",
       "    <tr style=\"text-align: right;\">\n",
       "      <th></th>\n",
       "      <th>email_id</th>\n",
       "      <th>category</th>\n",
       "      <th>vector</th>\n",
       "      <th>created_at</th>\n",
       "    </tr>\n",
       "  </thead>\n",
       "  <tbody>\n",
       "    <tr>\n",
       "      <th>0</th>\n",
       "      <td>140</td>\n",
       "      <td>Onboarding</td>\n",
       "      <td>[0.0015864443266764283, -0.0223986878991127, -...</td>\n",
       "      <td>2025-05-05 00:48:08.396391</td>\n",
       "    </tr>\n",
       "    <tr>\n",
       "      <th>1</th>\n",
       "      <td>137</td>\n",
       "      <td>Recruitment Process</td>\n",
       "      <td>[0.0169376228004694, -0.01755315624177456, -0....</td>\n",
       "      <td>2025-05-05 00:51:49.256918</td>\n",
       "    </tr>\n",
       "    <tr>\n",
       "      <th>2</th>\n",
       "      <td>112</td>\n",
       "      <td>Recruitment Process</td>\n",
       "      <td>[0.03189278766512871, -0.05429130792617798, 0....</td>\n",
       "      <td>2025-05-05 03:24:23.475210</td>\n",
       "    </tr>\n",
       "    <tr>\n",
       "      <th>3</th>\n",
       "      <td>139</td>\n",
       "      <td>Recruitment Process</td>\n",
       "      <td>[0.010934802703559399, 0.01625041849911213, -0...</td>\n",
       "      <td>2025-05-05 14:44:21.656742</td>\n",
       "    </tr>\n",
       "  </tbody>\n",
       "</table>\n",
       "</div>"
      ],
      "text/plain": [
       "   email_id             category  \\\n",
       "0       140           Onboarding   \n",
       "1       137  Recruitment Process   \n",
       "2       112  Recruitment Process   \n",
       "3       139  Recruitment Process   \n",
       "\n",
       "                                              vector  \\\n",
       "0  [0.0015864443266764283, -0.0223986878991127, -...   \n",
       "1  [0.0169376228004694, -0.01755315624177456, -0....   \n",
       "2  [0.03189278766512871, -0.05429130792617798, 0....   \n",
       "3  [0.010934802703559399, 0.01625041849911213, -0...   \n",
       "\n",
       "                  created_at  \n",
       "0 2025-05-05 00:48:08.396391  \n",
       "1 2025-05-05 00:51:49.256918  \n",
       "2 2025-05-05 03:24:23.475210  \n",
       "3 2025-05-05 14:44:21.656742  "
      ]
     },
     "execution_count": 18,
     "metadata": {},
     "output_type": "execute_result"
    }
   ],
   "source": [
    "# 📌 Step 6: Retrieve Data as DataFrame\n",
    "df = pd.read_sql(\"SELECT * FROM learned_email_vectors;\", conn)\n",
    "df\n"
   ]
  },
  {
   "cell_type": "code",
   "execution_count": null,
   "metadata": {},
   "outputs": [],
   "source": []
  }
 ],
 "metadata": {
  "kernelspec": {
   "display_name": "base",
   "language": "python",
   "name": "python3"
  },
  "language_info": {
   "codemirror_mode": {
    "name": "ipython",
    "version": 3
   },
   "file_extension": ".py",
   "mimetype": "text/x-python",
   "name": "python",
   "nbconvert_exporter": "python",
   "pygments_lexer": "ipython3",
   "version": "3.12.7"
  }
 },
 "nbformat": 4,
 "nbformat_minor": 2
}
